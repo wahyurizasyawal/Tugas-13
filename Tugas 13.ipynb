{
  "nbformat": 4,
  "nbformat_minor": 0,
  "metadata": {
    "colab": {
      "name": "Welcome To Colaboratory",
      "provenance": [],
      "collapsed_sections": [],
      "toc_visible": true,
      "include_colab_link": true
    },
    "kernelspec": {
      "display_name": "Python 3",
      "name": "python3"
    }
  },
  "cells": [
    {
      "cell_type": "markdown",
      "metadata": {
        "id": "view-in-github",
        "colab_type": "text"
      },
      "source": [
        "<a href=\"https://colab.research.google.com/github/wahyurizasyawal/Tugas-13/blob/main/Tugas%2013.ipynb\" target=\"_parent\"><img src=\"https://colab.research.google.com/assets/colab-badge.svg\" alt=\"Open In Colab\"/></a>"
      ]
    },
    {
      "cell_type": "markdown",
      "metadata": {
        "id": "dcBzRCT5Zj0e"
      },
      "source": [
        "Muh Wahyu Rizasyawal (1101184146) TT-43-G2 "
      ]
    },
    {
      "cell_type": "code",
      "metadata": {
        "id": "rKlFBtRQaH8B",
        "outputId": "9c50da34-a3c1-467d-f8c0-47d5a923a364",
        "colab": {
          "base_uri": "https://localhost:8080/"
        }
      },
      "source": [
        "from google.colab import drive\r\n",
        "drive.mount('/content/drive')"
      ],
      "execution_count": 1,
      "outputs": [
        {
          "output_type": "stream",
          "text": [
            "Mounted at /content/drive\n"
          ],
          "name": "stdout"
        }
      ]
    },
    {
      "cell_type": "code",
      "metadata": {
        "id": "Le-QwEk0aOqd"
      },
      "source": [
        "\r\n",
        "import numpy as np\r\n",
        "import matplotlib.pyplot as plt"
      ],
      "execution_count": 2,
      "outputs": []
    },
    {
      "cell_type": "code",
      "metadata": {
        "id": "lkmPXsbqaRSn"
      },
      "source": [
        "def cos(fk,tipe,ht,hr,d):\r\n",
        "   \r\n",
        "    if fk in range(150,1501):\r\n",
        "        Ca=69.55\r\n",
        "        Cb=26.16\r\n",
        "    elif fk in range(1501,2001):\r\n",
        "        Ca=46.3\r\n",
        "        Cb=33.9\r\n",
        "    \r\n",
        "    if tipe=='urban' :\r\n",
        "        Cm=0\r\n",
        "    elif tipe=='suburban' :\r\n",
        "        Cm= -2*((np.log10((fk/28)**2))-5.4)\r\n",
        "    elif tipe=='open' :\r\n",
        "        Cm= -4.78*(np.log10(fk))+18.33*(np.log10(fk))-40.94\r\n",
        "    else :\r\n",
        "        Cm='tipe salah'\r\n",
        "    \r\n",
        "    ahr = (1.1*np.log10(fk)-0.7)*hr-(1.56*np.log10(fk)-1.8)\r\n",
        "    Lp = Ca+(Cb*np.log10(fk))-(13.83*np.log(ht))-ahr+((44.9-6.55*np.log10(ht))*np.log10(d))-Cm\r\n",
        "    \r\n",
        "    return Lp"
      ],
      "execution_count": 3,
      "outputs": []
    },
    {
      "cell_type": "code",
      "metadata": {
        "id": "UgnFELR-aUnC"
      },
      "source": [
        "tower=80  \r\n",
        "user=1.5 \r\n",
        "dmin=200 \r\n",
        "dmax=700 \r\n",
        "N=200 \r\n",
        "d=np.random.randint(dmin,dmax,N)"
      ],
      "execution_count": 4,
      "outputs": []
    },
    {
      "cell_type": "code",
      "metadata": {
        "id": "A77qpRlzaXql"
      },
      "source": [
        "def Ruangx():\r\n",
        "  f=1800 \r\n",
        "  loc='urban'\r\n",
        "  LpUrban=cos(f,loc,tower,user,d)\r\n",
        "  d_sort=d[np.argsort(d)]\r\n",
        "  Urban_sort=LpUrban[np.argsort(d)]\r\n",
        "  return d_sort,Urban_sort"
      ],
      "execution_count": 5,
      "outputs": []
    },
    {
      "cell_type": "code",
      "metadata": {
        "id": "u-wELM_6aaqu"
      },
      "source": [
        "\r\n",
        "def Ruangy():\r\n",
        "  f=1800 \r\n",
        "  loc='open'\r\n",
        "  LpUrban=cos(f,loc,tower,user,d)\r\n",
        "  d_sort=d[np.argsort(d)]\r\n",
        "  Urban_sort=LpUrban[np.argsort(d)]\r\n",
        "  return d_sort,Urban_sort"
      ],
      "execution_count": 6,
      "outputs": []
    },
    {
      "cell_type": "code",
      "metadata": {
        "id": "9VQkFtb1aeKs"
      },
      "source": [
        "def Ruangz():\r\n",
        "  f=1800 \r\n",
        "  loc='suburban'\r\n",
        "  LpUrban=cos(f,loc,tower,user,d)\r\n",
        "  d_sort=d[np.argsort(d)]\r\n",
        "  Urban_sort=LpUrban[np.argsort(d)]\r\n",
        "  return d_sort,Urban_sort"
      ],
      "execution_count": 7,
      "outputs": []
    },
    {
      "cell_type": "code",
      "metadata": {
        "id": "hfjzO6QmagVY"
      },
      "source": [
        "def frekuensix():\r\n",
        "  f=700 \r\n",
        "  loc='urban'\r\n",
        "  LpUrban=cos(f,loc,tower,user,d)\r\n",
        "  d_sort=d[np.argsort(d)]\r\n",
        "  Urban_sort=LpUrban[np.argsort(d)]\r\n",
        "  return d_sort,Urban_sort"
      ],
      "execution_count": 8,
      "outputs": []
    },
    {
      "cell_type": "code",
      "metadata": {
        "id": "Qtpfbzdraiws"
      },
      "source": [
        "def frekuensiy():\r\n",
        "  f=900 \r\n",
        "  loc='urban'\r\n",
        "  LpUrban=cos(f,loc,tower,user,d)\r\n",
        "  d_sort=d[np.argsort(d)]\r\n",
        "  Urban_sort=LpUrban[np.argsort(d)]\r\n",
        "  return d_sort,Urban_sort"
      ],
      "execution_count": 9,
      "outputs": []
    },
    {
      "cell_type": "code",
      "metadata": {
        "id": "I-y5t9vralZO"
      },
      "source": [
        "def frekuensiz():\r\n",
        "  f=1800 \r\n",
        "  loc='urban'\r\n",
        "  LpUrban=cos(f,loc,tower,user,d)\r\n",
        "  d_sort=d[np.argsort(d)]\r\n",
        "  Urban_sort=LpUrban[np.argsort(d)]\r\n",
        "  return d_sort,Urban_sort"
      ],
      "execution_count": 10,
      "outputs": []
    },
    {
      "cell_type": "code",
      "metadata": {
        "id": "QG1Wnxj6apQO"
      },
      "source": [
        "x1,y1 = Ruangx()\r\n",
        "x2,y2 = Ruangy()\r\n",
        "x3,y3 = Ruangz()\r\n",
        "\r\n",
        "a1,b1 = frekuensix()\r\n",
        "a2,b2 = frekuensiy()\r\n",
        "a3,b3 = frekuensiz()"
      ],
      "execution_count": 11,
      "outputs": []
    },
    {
      "cell_type": "code",
      "metadata": {
        "id": "PWdYtUrAaqcl",
        "outputId": "b78bab0f-6c2f-40a8-bc46-625a4284aae3",
        "colab": {
          "base_uri": "https://localhost:8080/",
          "height": 541
        }
      },
      "source": [
        "plt.figure()\r\n",
        "plt.plot(x1,y1,'b', label='urban')\r\n",
        "plt.plot(x2,y2,'g', label='open')\r\n",
        "plt.plot(x3,y3,'r', label='suburban')\r\n",
        "plt.legend()\r\n",
        "plt.xlabel('Jarak (m)')\r\n",
        "plt.ylabel('Path Loss (dB)')\r\n",
        "plt.show()\r\n",
        "\r\n",
        "plt.figure()\r\n",
        "plt.plot(a1,b1,'c', label='700 Mhz')\r\n",
        "plt.plot(a2,b2,'m', label='900 Mhz')\r\n",
        "plt.plot(a3,b3,'y', label='1800 Mhz')\r\n",
        "plt.legend()\r\n",
        "plt.xlabel('Jarak (m)')\r\n",
        "plt.ylabel('Path Loss (dB)')\r\n",
        "plt.show()"
      ],
      "execution_count": 12,
      "outputs": [
        {
          "output_type": "display_data",
          "data": {
            "image/png": "[encoded data removed]",
            "text/plain": [
              "<Figure size 432x288 with 1 Axes>"
            ]
          },
          "metadata": {
            "tags": [],
            "needs_background": "light"
          }
        },
        {
          "output_type": "display_data",
          "data": {
            "image/png": "[encoded data removed]",
            "text/plain": [
              "<Figure size 432x288 with 1 Axes>"
            ]
          },
          "metadata": {
            "tags": [],
            "needs_background": "light"
          }
        }
      ]
    },
    {
      "cell_type": "code",
      "metadata": {
        "id": "T2-hDaASatWS"
      },
      "source": [
        ""
      ],
      "execution_count": null,
      "outputs": []
    }
  ]
}